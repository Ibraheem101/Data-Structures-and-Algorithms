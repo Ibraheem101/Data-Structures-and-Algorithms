{
 "cells": [
  {
   "cell_type": "markdown",
   "metadata": {},
   "source": [
    "# **Clean Code in Python: Develop Maintainable and Efficient Code**\n"
   ]
  },
  {
   "cell_type": "markdown",
   "metadata": {},
   "source": [
    "## **Chapter 1: Introduction, Code Formatting, and Tools**\n"
   ]
  },
  {
   "cell_type": "markdown",
   "metadata": {},
   "source": [
    "### Docstrings\n",
    "Example of how useful a docstring is"
   ]
  },
  {
   "cell_type": "code",
   "execution_count": 1,
   "metadata": {},
   "outputs": [
    {
     "name": "stdout",
     "output_type": "stream",
     "text": [
      "\u001b[1;31mDocstring:\u001b[0m\n",
      "D.update([E, ]**F) -> None.  Update D from dict/iterable E and F.\n",
      "If E is present and has a .keys() method, then does:  for k in E: D[k] = E[k]\n",
      "If E is present and lacks a .keys() method, then does:  for k, v in E: D[k] = v\n",
      "In either case, this is followed by: for k in F:  D[k] = F[k]\n",
      "\u001b[1;31mType:\u001b[0m      method_descriptor"
     ]
    }
   ],
   "source": [
    "dict.update??"
   ]
  },
  {
   "cell_type": "code",
   "execution_count": 2,
   "metadata": {},
   "outputs": [],
   "source": [
    "def my_function():\n",
    "    \"\"\"Perform some computation\"\"\"\n",
    "    return None"
   ]
  },
  {
   "cell_type": "code",
   "execution_count": 4,
   "metadata": {},
   "outputs": [
    {
     "data": {
      "text/plain": [
       "'Perform some computation'"
      ]
     },
     "execution_count": 4,
     "metadata": {},
     "output_type": "execute_result"
    }
   ],
   "source": [
    "my_function.__doc__"
   ]
  },
  {
   "cell_type": "markdown",
   "metadata": {},
   "source": [
    "### Annotations\n",
    "The basic idea of them is to hint to the readers of the code about what to expect as values of arguments in functions. "
   ]
  },
  {
   "cell_type": "code",
   "execution_count": 6,
   "metadata": {},
   "outputs": [],
   "source": [
    "import time\n",
    "Seconds = float\n",
    "def print_numbers(delay: Seconds):\n",
    "    for i in range(0, 10):\n",
    "        print(i)\n",
    "        time.sleep(2)"
   ]
  },
  {
   "cell_type": "code",
   "execution_count": 9,
   "metadata": {},
   "outputs": [
    {
     "name": "stdout",
     "output_type": "stream",
     "text": [
      "0\n",
      "1\n",
      "2\n",
      "3\n",
      "4\n",
      "5\n",
      "6\n",
      "7\n",
      "8\n",
      "9\n"
     ]
    }
   ],
   "source": [
    "print_numbers(4)"
   ]
  },
  {
   "cell_type": "code",
   "execution_count": 10,
   "metadata": {},
   "outputs": [
    {
     "data": {
      "text/plain": [
       "{'delay': float}"
      ]
     },
     "execution_count": 10,
     "metadata": {},
     "output_type": "execute_result"
    }
   ],
   "source": [
    "print_numbers.__annotations__"
   ]
  },
  {
   "cell_type": "markdown",
   "metadata": {},
   "source": [
    "There is an added benefit that annotations bring. With the introduction of PEP-526 \n",
    "and PEP-557, there is a convenient way of writing classes in a compact way and \n",
    "defining small container objects. The idea is to just declare attributes in a class, and \n",
    "use annotations to set their type, and with the help of the `@dataclass` decorator, they \n",
    "will be handled as instance attributes without having to explicitly declare it in the \n",
    "`__init__` method and set values to them:"
   ]
  },
  {
   "cell_type": "code",
   "execution_count": 1,
   "metadata": {},
   "outputs": [],
   "source": [
    "import math\n",
    "from dataclasses import dataclass\n",
    "\n",
    "class Shape:\n",
    "    def area(self):\n",
    "        raise NotImplementedError\n",
    "    def perimeter(self):\n",
    "        raise NotImplementedError\n",
    "\n",
    "@dataclass\n",
    "class Circle(Shape):\n",
    "    radius: float\n",
    "\n",
    "    def area(self) -> float:\n",
    "        return math.pi * self.radius ** 2\n",
    "    \n",
    "    def perimeter(self) -> float:\n",
    "        return 2 * self.radius * math.pi"
   ]
  },
  {
   "cell_type": "code",
   "execution_count": 2,
   "metadata": {},
   "outputs": [
    {
     "data": {
      "text/plain": [
       "{'radius': float}"
      ]
     },
     "execution_count": 2,
     "metadata": {},
     "output_type": "execute_result"
    }
   ],
   "source": [
    "Circle.__annotations__"
   ]
  },
  {
   "cell_type": "markdown",
   "metadata": {},
   "source": [
    "#### Type annotations with `mypy`\n",
    "To work with `mypy`, run `pip install mypy`\n",
    "\n",
    "For Python script: `mypy script.py`\\\n",
    "For Jupyter notebook, install nbqa: `pip install -U nbqa`\\\n",
    "Run `nbqa mypy notebook.ipynb`"
   ]
  },
  {
   "cell_type": "code",
   "execution_count": null,
   "metadata": {},
   "outputs": [],
   "source": [
    "def get_details(people) -> dict[str, list]:\n",
    "    return {\"Ibraheem\": [\"Man\", 25]}"
   ]
  },
  {
   "cell_type": "code",
   "execution_count": null,
   "metadata": {},
   "outputs": [],
   "source": []
  },
  {
   "cell_type": "code",
   "execution_count": null,
   "metadata": {},
   "outputs": [],
   "source": []
  }
 ],
 "metadata": {
  "kernelspec": {
   "display_name": "base",
   "language": "python",
   "name": "python3"
  },
  "language_info": {
   "codemirror_mode": {
    "name": "ipython",
    "version": 3
   },
   "file_extension": ".py",
   "mimetype": "text/x-python",
   "name": "python",
   "nbconvert_exporter": "python",
   "pygments_lexer": "ipython3",
   "version": "3.12.4"
  }
 },
 "nbformat": 4,
 "nbformat_minor": 2
}

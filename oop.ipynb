{
 "cells": [
  {
   "cell_type": "markdown",
   "metadata": {},
   "source": [
    "# **Revising OOP Concepts**"
   ]
  },
  {
   "cell_type": "markdown",
   "metadata": {},
   "source": [
    "1. Write a Python program to create a class representing a Circle. Include methods to calculate its area and perimeter."
   ]
  },
  {
   "cell_type": "code",
   "execution_count": 10,
   "metadata": {},
   "outputs": [],
   "source": [
    "import math\n",
    "class Circle:\n",
    "    \"\"\"\n",
    "    A class to represent a circle\n",
    "\n",
    "    Attributes:\n",
    "        radius (float): The radius of the circle.\n",
    "\n",
    "    Methods:\n",
    "        calculate_area() -> float:\n",
    "            Returns the area of the circle.\n",
    "        calculate_perimeter() -> float:\n",
    "            Returns the perimeter of the circle\n",
    "    \"\"\"\n",
    "    def __init__(self, radius: float):\n",
    "        \"\"\"Initialize the circle with a given radius\"\"\"\n",
    "        self.radius = radius\n",
    "    \n",
    "    def calculate_area(self) -> float:\n",
    "        \"\"\"Return the area of the circle\"\"\"\n",
    "        return math.pi * (self.radius)**2\n",
    "\n",
    "    def calculate_perimeter(self) -> float:\n",
    "        \"\"\"Return the perimeter of the circle\"\"\"\n",
    "        return 2 * math.pi * self.radius\n"
   ]
  },
  {
   "cell_type": "code",
   "execution_count": 11,
   "metadata": {},
   "outputs": [],
   "source": [
    "circle1 = Circle(7)"
   ]
  },
  {
   "cell_type": "code",
   "execution_count": 12,
   "metadata": {},
   "outputs": [
    {
     "data": {
      "text/plain": [
       "153.93804002589985"
      ]
     },
     "execution_count": 12,
     "metadata": {},
     "output_type": "execute_result"
    }
   ],
   "source": [
    "circle1.calculate_area()"
   ]
  },
  {
   "cell_type": "code",
   "execution_count": 16,
   "metadata": {},
   "outputs": [
    {
     "name": "stdout",
     "output_type": "stream",
     "text": [
      "\n",
      "    A class to represent a circle\n",
      "\n",
      "    Attributes:\n",
      "        radius (float): The radius of the circle.\n",
      "\n",
      "    Methods:\n",
      "        calculate_area() -> float:\n",
      "            Returns the area of the circle.\n",
      "        calculate_perimeter() -> float:\n",
      "            Returns the perimeter of the circle\n",
      "    \n"
     ]
    }
   ],
   "source": [
    "print(circle1.__doc__)"
   ]
  },
  {
   "cell_type": "markdown",
   "metadata": {},
   "source": [
    "2. Write a Python program to create a person class. Include attributes like name, country and date of birth. Implement a method to determine the person's age"
   ]
  },
  {
   "cell_type": "code",
   "execution_count": 107,
   "metadata": {},
   "outputs": [],
   "source": [
    "from datetime import datetime, date\n",
    "class Person:\n",
    "    \"\"\"\n",
    "    A class to represent a person\n",
    "\n",
    "    Attributes:\n",
    "        name (str): The name of the person.\n",
    "        country (str): The person's nationality.\n",
    "        dob (datetime): The person's date of birth \n",
    "    Methods:\n",
    "        calculate_age() ->:\n",
    "            Calculate and return the age of the person\n",
    "    \"\"\"\n",
    "    def __init__(self, name: str, country: str, dob: datetime):\n",
    "        \"\"\"Initialize a new person\"\"\"\n",
    "        self.name = name\n",
    "        self.country = country\n",
    "        self.dob = datetime.strptime(dob, '%Y-%m-%d').date()\n",
    "    \n",
    "    def calculate_age(self) -> int:\n",
    "        \"\"\"Return the age of the person\"\"\"\n",
    "        today = date.today()\n",
    "        return today.year - self.dob.year - ((today.month, today.day) < (self.dob.month, self.dob.day))"
   ]
  },
  {
   "cell_type": "code",
   "execution_count": 108,
   "metadata": {},
   "outputs": [
    {
     "data": {
      "text/plain": [
       "datetime.date(2025, 2, 13)"
      ]
     },
     "execution_count": 108,
     "metadata": {},
     "output_type": "execute_result"
    }
   ],
   "source": [
    "date.today()"
   ]
  },
  {
   "cell_type": "code",
   "execution_count": 110,
   "metadata": {},
   "outputs": [],
   "source": [
    "person1 = Person(\"Ibrahim\", \"Emirati\", \"2003-12-8\")"
   ]
  },
  {
   "cell_type": "code",
   "execution_count": 111,
   "metadata": {},
   "outputs": [
    {
     "data": {
      "text/plain": [
       "21"
      ]
     },
     "execution_count": 111,
     "metadata": {},
     "output_type": "execute_result"
    }
   ],
   "source": [
    "person1.calculate_age()"
   ]
  },
  {
   "cell_type": "code",
   "execution_count": null,
   "metadata": {},
   "outputs": [],
   "source": []
  }
 ],
 "metadata": {
  "kernelspec": {
   "display_name": "Conda (base)",
   "language": "python",
   "name": "base"
  },
  "language_info": {
   "codemirror_mode": {
    "name": "ipython",
    "version": 3
   },
   "file_extension": ".py",
   "mimetype": "text/x-python",
   "name": "python",
   "nbconvert_exporter": "python",
   "pygments_lexer": "ipython3",
   "version": "3.12.4"
  }
 },
 "nbformat": 4,
 "nbformat_minor": 2
}

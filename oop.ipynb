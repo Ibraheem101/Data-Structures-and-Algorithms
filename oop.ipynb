{
 "cells": [
  {
   "cell_type": "markdown",
   "metadata": {},
   "source": [
    "# **Revising OOP Concepts**"
   ]
  },
  {
   "cell_type": "markdown",
   "metadata": {},
   "source": [
    "1. Write a Python program to create a class representing a Circle. Include methods to calculate its area and perimeter."
   ]
  },
  {
   "cell_type": "code",
   "execution_count": 10,
   "metadata": {},
   "outputs": [],
   "source": [
    "import math\n",
    "class Circle:\n",
    "    \"\"\"\n",
    "    A class to represent a circle\n",
    "\n",
    "    Attributes:\n",
    "        radius (float): The radius of the circle.\n",
    "\n",
    "    Methods:\n",
    "        calculate_area() -> float:\n",
    "            Returns the area of the circle.\n",
    "        calculate_perimeter() -> float:\n",
    "            Returns the perimeter of the circle\n",
    "    \"\"\"\n",
    "    def __init__(self, radius: float):\n",
    "        \"\"\"Initialize the circle with a given radius\"\"\"\n",
    "        self.radius = radius\n",
    "    \n",
    "    def calculate_area(self) -> float:\n",
    "        \"\"\"Return the area of the circle\"\"\"\n",
    "        return math.pi * (self.radius)**2\n",
    "\n",
    "    def calculate_perimeter(self) -> float:\n",
    "        \"\"\"Return the perimeter of the circle\"\"\"\n",
    "        return 2 * math.pi * self.radius\n"
   ]
  },
  {
   "cell_type": "code",
   "execution_count": 11,
   "metadata": {},
   "outputs": [],
   "source": [
    "circle1 = Circle(7)"
   ]
  },
  {
   "cell_type": "code",
   "execution_count": 12,
   "metadata": {},
   "outputs": [
    {
     "data": {
      "text/plain": [
       "153.93804002589985"
      ]
     },
     "execution_count": 12,
     "metadata": {},
     "output_type": "execute_result"
    }
   ],
   "source": [
    "circle1.calculate_area()"
   ]
  },
  {
   "cell_type": "code",
   "execution_count": 16,
   "metadata": {},
   "outputs": [
    {
     "name": "stdout",
     "output_type": "stream",
     "text": [
      "\n",
      "    A class to represent a circle\n",
      "\n",
      "    Attributes:\n",
      "        radius (float): The radius of the circle.\n",
      "\n",
      "    Methods:\n",
      "        calculate_area() -> float:\n",
      "            Returns the area of the circle.\n",
      "        calculate_perimeter() -> float:\n",
      "            Returns the perimeter of the circle\n",
      "    \n"
     ]
    }
   ],
   "source": [
    "print(circle1.__doc__)"
   ]
  },
  {
   "cell_type": "markdown",
   "metadata": {},
   "source": [
    "2. Write a Python program to create a person class. Include attributes like name, country and date of birth. Implement a method to determine the person's age"
   ]
  },
  {
   "cell_type": "code",
   "execution_count": 107,
   "metadata": {},
   "outputs": [],
   "source": [
    "from datetime import datetime, date\n",
    "class Person:\n",
    "    \"\"\"\n",
    "    A class to represent a person\n",
    "\n",
    "    Attributes:\n",
    "        name (str): The name of the person.\n",
    "        country (str): The person's nationality.\n",
    "        dob (datetime): The person's date of birth \n",
    "    Methods:\n",
    "        calculate_age() -> int:\n",
    "            Calculate and return the age of the person\n",
    "    \"\"\"\n",
    "    def __init__(self, name: str, country: str, dob: datetime):\n",
    "        \"\"\"Initialize a new person\"\"\"\n",
    "        self.name = name\n",
    "        self.country = country\n",
    "        self.dob = datetime.strptime(dob, '%Y-%m-%d').date()\n",
    "    \n",
    "    def calculate_age(self) -> int:\n",
    "        \"\"\"Return the age of the person\"\"\"\n",
    "        today = date.today()\n",
    "        return today.year - self.dob.year - ((today.month, today.day) < (self.dob.month, self.dob.day))"
   ]
  },
  {
   "cell_type": "code",
   "execution_count": 108,
   "metadata": {},
   "outputs": [
    {
     "data": {
      "text/plain": [
       "datetime.date(2025, 2, 13)"
      ]
     },
     "execution_count": 108,
     "metadata": {},
     "output_type": "execute_result"
    }
   ],
   "source": [
    "date.today()"
   ]
  },
  {
   "cell_type": "code",
   "execution_count": 110,
   "metadata": {},
   "outputs": [],
   "source": [
    "person1 = Person(\"Ibrahim\", \"Emirati\", \"2003-12-8\")"
   ]
  },
  {
   "cell_type": "code",
   "execution_count": 111,
   "metadata": {},
   "outputs": [
    {
     "data": {
      "text/plain": [
       "21"
      ]
     },
     "execution_count": 111,
     "metadata": {},
     "output_type": "execute_result"
    }
   ],
   "source": [
    "person1.calculate_age()"
   ]
  },
  {
   "cell_type": "code",
   "execution_count": null,
   "metadata": {},
   "outputs": [],
   "source": []
  },
  {
   "cell_type": "markdown",
   "metadata": {},
   "source": [
    "3. Write a Python program to create a calculator class. Include methods for basic arithmetic operations.\n"
   ]
  },
  {
   "cell_type": "code",
   "execution_count": 133,
   "metadata": {},
   "outputs": [],
   "source": [
    "class Calculator:\n",
    "    \"\"\"\n",
    "    A class to perform basic arithmetic\n",
    "\n",
    "    Attributes:\n",
    "        x (float): The first value. Quotient in division operation\n",
    "        y (float): The second value. Divisor in division operation\n",
    "\n",
    "    Methods:\n",
    "        add(x, y) -> float:\n",
    "            Add x and y and return the result\n",
    "        subtract(x, y) -> float:\n",
    "            Subtracts y from x and return the result\n",
    "        multiply(x, y) -> float:\n",
    "            Multiply x by y and return the result\n",
    "        divide(x, y) ->:\n",
    "            Divide x by y and return the result\n",
    "    \"\"\"\n",
    "\n",
    "    def add(self, x, y):\n",
    "        return x + y\n",
    "    \n",
    "    def subtract(self, x, y):\n",
    "        return x - y\n",
    "    \n",
    "    def multiply(self, x, y):\n",
    "        return x * y\n",
    "    \n",
    "    def divide(self, x, y):\n",
    "        return x / y if y!= 0 else ZeroDivisionError(\"Cannot divide by zero\")"
   ]
  },
  {
   "cell_type": "code",
   "execution_count": 134,
   "metadata": {},
   "outputs": [],
   "source": [
    "calculator = Calculator()"
   ]
  },
  {
   "cell_type": "code",
   "execution_count": 135,
   "metadata": {},
   "outputs": [
    {
     "data": {
      "text/plain": [
       "ZeroDivisionError('Cannot divide by zero')"
      ]
     },
     "execution_count": 135,
     "metadata": {},
     "output_type": "execute_result"
    }
   ],
   "source": [
    "calculator.divide(2, 0)"
   ]
  },
  {
   "cell_type": "code",
   "execution_count": null,
   "metadata": {},
   "outputs": [],
   "source": []
  },
  {
   "cell_type": "markdown",
   "metadata": {},
   "source": [
    "4. Write a Python program to create a class that represents a shape. Include methods to calculate its area and perimeter. Implement subclasses for different shapes like circle, triangle, and square."
   ]
  },
  {
   "cell_type": "code",
   "execution_count": 167,
   "metadata": {},
   "outputs": [],
   "source": [
    "import math\n",
    "from dataclasses import dataclass\n",
    "\n",
    "class Shape:\n",
    "    def area(self):\n",
    "        raise NotImplementedError\n",
    "    def perimeter(self):\n",
    "        raise NotImplementedError\n",
    "\n",
    "class Triangle(Shape):\n",
    "    def __init__(self, a: float, b: float, c: float):\n",
    "        self.a = a\n",
    "        self.b = b\n",
    "        self.c = c\n",
    "    def perimeter(self) -> float:\n",
    "        return self.a + self.b + self.c\n",
    "    def area(self) -> float:\n",
    "        s = self.perimeter()/2\n",
    "        return math.sqrt(s * (s - self.a) * (s - self.b) * (s - self.c))\n",
    "    "
   ]
  },
  {
   "cell_type": "code",
   "execution_count": 164,
   "metadata": {},
   "outputs": [],
   "source": [
    "triangle = Triangle(5, 5, 6)"
   ]
  },
  {
   "cell_type": "code",
   "execution_count": 165,
   "metadata": {},
   "outputs": [
    {
     "data": {
      "text/plain": [
       "(12.0, 16)"
      ]
     },
     "execution_count": 165,
     "metadata": {},
     "output_type": "execute_result"
    }
   ],
   "source": [
    "triangle.area(), triangle.perimeter()"
   ]
  },
  {
   "cell_type": "markdown",
   "metadata": {},
   "source": [
    "There is an added benefit that annotations bring. With the introduction of PEP-526 \n",
    "and PEP-557, there is a convenient way of writing classes in a compact way and \n",
    "defining small container objects. The idea is to just declare attributes in a class, and \n",
    "use annotations to set their type, and with the help of the `@dataclass` decorator, they \n",
    "will be handled as instance attributes without having to explicitly declare it in the \n",
    "`__init__` method and set values to them:"
   ]
  },
  {
   "cell_type": "code",
   "execution_count": 173,
   "metadata": {},
   "outputs": [],
   "source": [
    "@dataclass\n",
    "class Circle(Shape):\n",
    "    radius: float\n",
    "\n",
    "    def area(self) -> float:\n",
    "        return math.pi * self.radius ** 2\n",
    "    \n",
    "    def perimeter(self) -> float:\n",
    "        return 2 * self.radius * math.pi"
   ]
  },
  {
   "cell_type": "code",
   "execution_count": 171,
   "metadata": {},
   "outputs": [
    {
     "data": {
      "text/plain": [
       "{'radius': float}"
      ]
     },
     "execution_count": 171,
     "metadata": {},
     "output_type": "execute_result"
    }
   ],
   "source": [
    "Circle.__annotations__"
   ]
  },
  {
   "cell_type": "code",
   "execution_count": 172,
   "metadata": {},
   "outputs": [
    {
     "data": {
      "text/plain": [
       "Circle(radius=4)"
      ]
     },
     "execution_count": 172,
     "metadata": {},
     "output_type": "execute_result"
    }
   ],
   "source": [
    "Circle(4)"
   ]
  },
  {
   "cell_type": "markdown",
   "metadata": {},
   "source": [
    "5. Write a Python program to create a class representing a binary search tree. Include methods for inserting and searching for elements in the binary tree."
   ]
  },
  {
   "cell_type": "code",
   "execution_count": null,
   "metadata": {},
   "outputs": [],
   "source": []
  }
 ],
 "metadata": {
  "kernelspec": {
   "display_name": "Conda (base)",
   "language": "python",
   "name": "base"
  },
  "language_info": {
   "codemirror_mode": {
    "name": "ipython",
    "version": 3
   },
   "file_extension": ".py",
   "mimetype": "text/x-python",
   "name": "python",
   "nbconvert_exporter": "python",
   "pygments_lexer": "ipython3",
   "version": "3.12.4"
  }
 },
 "nbformat": 4,
 "nbformat_minor": 2
}

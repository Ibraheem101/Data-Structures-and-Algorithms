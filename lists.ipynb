{
 "cells": [
  {
   "cell_type": "markdown",
   "metadata": {},
   "source": [
    "# **List Data Structure**"
   ]
  },
  {
   "cell_type": "markdown",
   "metadata": {},
   "source": [
    "List elements are stored in consecutive memory locations along with some reserved space for future additions."
   ]
  },
  {
   "cell_type": "markdown",
   "metadata": {},
   "source": [
    "## List Operations"
   ]
  },
  {
   "cell_type": "markdown",
   "metadata": {},
   "source": [
    "### 1. Indexing\n",
    "Also called access. This takes O(1) time since the elements are in consecutive memory locations. \\\n",
    "Memory location of my_list[2] = memory location of my_list[0] + 2"
   ]
  },
  {
   "cell_type": "code",
   "execution_count": 1,
   "metadata": {},
   "outputs": [
    {
     "name": "stdout",
     "output_type": "stream",
     "text": [
      "6\n"
     ]
    }
   ],
   "source": [
    "my_list = [0, 1, 2, 6]\n",
    "print(my_list[3])"
   ]
  },
  {
   "cell_type": "markdown",
   "metadata": {},
   "source": [
    "### 2. List Size\n",
    "Using the `len()` function. This takes O(1) time because the size is also stored in memory with the list."
   ]
  },
  {
   "cell_type": "code",
   "execution_count": 2,
   "metadata": {},
   "outputs": [
    {
     "data": {
      "text/plain": [
       "4"
      ]
     },
     "execution_count": 2,
     "metadata": {},
     "output_type": "execute_result"
    }
   ],
   "source": [
    "len(my_list)"
   ]
  },
  {
   "cell_type": "markdown",
   "metadata": {},
   "source": [
    "### 3. Searching\n",
    "The operator `in` tells if a given element is on the list or not. The method `index` returns the index of the first occurrence of the element on the list. The method `count` counts the occurrences of the element on the list.\\\n",
    "All these operations take O(n) time."
   ]
  },
  {
   "cell_type": "code",
   "execution_count": 3,
   "metadata": {},
   "outputs": [
    {
     "name": "stdout",
     "output_type": "stream",
     "text": [
      "False\n",
      "2\n",
      "1\n"
     ]
    }
   ],
   "source": [
    "print(4 in my_list)\n",
    "print(my_list.index(2))\n",
    "print(my_list.count(0))"
   ]
  },
  {
   "cell_type": "markdown",
   "metadata": {},
   "source": [
    "`count` is basically\n",
    "```python\n",
    "def count(items, target):\n",
    "    result = 0\n",
    "    for item in items:\n",
    "        if item == target:\n",
    "            result += 1\n",
    "    return result\n",
    "```"
   ]
  },
  {
   "cell_type": "markdown",
   "metadata": {},
   "source": [
    "### 4. Adding an element with `append` or `insert`\n",
    "`append` is O(1) because we're adding an element to the end of a list. If the memory area reserved for the list is already full and there is no room for the new element, a new bigger memory area is reserved for the list and all elements are moved to the new area, which needs O(n) time.\n",
    "\n",
    "`insert` on the other hand is O(n) because it involves moving each element by one memory location ahead. The closer the position is to the end, the more efficient the insert because fewer elements need to be moved."
   ]
  },
  {
   "cell_type": "code",
   "execution_count": 4,
   "metadata": {},
   "outputs": [
    {
     "name": "stdout",
     "output_type": "stream",
     "text": [
      "[0, 1, 2, 6, [4, 7]]\n",
      "[0, 1, 2, 6, 6, [4, 7]]\n",
      "[0, 1, 2, 6, 6, [2, 4], [4, 7]]\n"
     ]
    }
   ],
   "source": [
    "my_list.append([4, 7])\n",
    "print(my_list)\n",
    "\n",
    "my_list.insert(-1, 6)\n",
    "print(my_list)\n",
    "\n",
    "my_list.insert(-1, [2, 4])\n",
    "print(my_list)"
   ]
  },
  {
   "cell_type": "markdown",
   "metadata": {},
   "source": [
    "### Removing an element with `pop` or `remove`\n",
    "The time complexity for `pop` depends on the location of the element to be popped. `pop()` without specifying the index removes the last element and this takes O(1) time. Other than that, it takes O(n) because now all the following elements have to be relocated in memory.\n",
    "\n",
    "Python also has a list method `remove` that removes the first occurrence of a given element. The time complexity of the method is always O(n), because it first has to find the first occurrence (similarly to the method index), and then remove the element and relocate the following elements."
   ]
  },
  {
   "cell_type": "code",
   "execution_count": 5,
   "metadata": {},
   "outputs": [
    {
     "name": "stdout",
     "output_type": "stream",
     "text": [
      "[1, 2, 6, 6, [2, 4], [4, 7]]\n",
      "[1, 2, 6, [2, 4], [4, 7]]\n"
     ]
    }
   ],
   "source": [
    "my_list.pop(0)\n",
    "print(my_list)\n",
    "\n",
    "my_list.remove(6)\n",
    "print(my_list)"
   ]
  },
  {
   "cell_type": "markdown",
   "metadata": {},
   "source": [
    "### Summary\n",
    "\n",
    "<table>\n",
    "  <thead>\n",
    "    <tr>\n",
    "      <th>Operation</th>\n",
    "      <th>Time complexity</th>\n",
    "    </tr>\n",
    "  </thead>\n",
    "  <tbody>\n",
    "    <tr>\n",
    "      <td>Indexing (<code class=\"language-plaintext highlighter-rouge\">[]</code>)</td>\n",
    "      <td><span><span class=\"katex\"><span class=\"katex-mathml\"><math xmlns=\"http://www.w3.org/1998/Math/MathML\"><semantics><mrow><mi>O</mi><mo stretchy=\"false\">(</mo><mn>1</mn><mo stretchy=\"false\">)</mo></mrow><annotation encoding=\"application/x-tex\">O(1)</annotation></semantics></math></span><span class=\"katex-html\" aria-hidden=\"true\"><span class=\"base\"><span class=\"strut\" style=\"height: 1em; vertical-align: -0.25em;\"></span><span class=\"mord mathnormal\" style=\"margin-right: 0.0278em;\">O</span><span class=\"mopen\">(</span><span class=\"mord\">1</span><span class=\"mclose\">)</span></span></span></span></span></td>\n",
    "    </tr>\n",
    "    <tr>\n",
    "      <td>Size (<code class=\"language-plaintext highlighter-rouge\">len</code>)</td>\n",
    "      <td><span><span class=\"katex\"><span class=\"katex-mathml\"><math xmlns=\"http://www.w3.org/1998/Math/MathML\"><semantics><mrow><mi>O</mi><mo stretchy=\"false\">(</mo><mn>1</mn><mo stretchy=\"false\">)</mo></mrow><annotation encoding=\"application/x-tex\">O(1)</annotation></semantics></math></span><span class=\"katex-html\" aria-hidden=\"true\"><span class=\"base\"><span class=\"strut\" style=\"height: 1em; vertical-align: -0.25em;\"></span><span class=\"mord mathnormal\" style=\"margin-right: 0.0278em;\">O</span><span class=\"mopen\">(</span><span class=\"mord\">1</span><span class=\"mclose\">)</span></span></span></span></span></td>\n",
    "    </tr>\n",
    "    <tr>\n",
    "      <td>Is element on list? (<code class=\"language-plaintext highlighter-rouge\">in</code>)</td>\n",
    "      <td><span><span class=\"katex\"><span class=\"katex-mathml\"><math xmlns=\"http://www.w3.org/1998/Math/MathML\"><semantics><mrow><mi>O</mi><mo stretchy=\"false\">(</mo><mi>n</mi><mo stretchy=\"false\">)</mo></mrow><annotation encoding=\"application/x-tex\">O(n)</annotation></semantics></math></span><span class=\"katex-html\" aria-hidden=\"true\"><span class=\"base\"><span class=\"strut\" style=\"height: 1em; vertical-align: -0.25em;\"></span><span class=\"mord mathnormal\" style=\"margin-right: 0.0278em;\">O</span><span class=\"mopen\">(</span><span class=\"mord mathnormal\">n</span><span class=\"mclose\">)</span></span></span></span></span></td>\n",
    "    </tr>\n",
    "    <tr>\n",
    "      <td>Searching (<code class=\"language-plaintext highlighter-rouge\">index</code>)</td>\n",
    "      <td><span><span class=\"katex\"><span class=\"katex-mathml\"><math xmlns=\"http://www.w3.org/1998/Math/MathML\"><semantics><mrow><mi>O</mi><mo stretchy=\"false\">(</mo><mi>n</mi><mo stretchy=\"false\">)</mo></mrow><annotation encoding=\"application/x-tex\">O(n)</annotation></semantics></math></span><span class=\"katex-html\" aria-hidden=\"true\"><span class=\"base\"><span class=\"strut\" style=\"height: 1em; vertical-align: -0.25em;\"></span><span class=\"mord mathnormal\" style=\"margin-right: 0.0278em;\">O</span><span class=\"mopen\">(</span><span class=\"mord mathnormal\">n</span><span class=\"mclose\">)</span></span></span></span></span></td>\n",
    "    </tr>\n",
    "    <tr>\n",
    "      <td>Counting (<code class=\"language-plaintext highlighter-rouge\">count</code>)</td>\n",
    "      <td><span><span class=\"katex\"><span class=\"katex-mathml\"><math xmlns=\"http://www.w3.org/1998/Math/MathML\"><semantics><mrow><mi>O</mi><mo stretchy=\"false\">(</mo><mi>n</mi><mo stretchy=\"false\">)</mo></mrow><annotation encoding=\"application/x-tex\">O(n)</annotation></semantics></math></span><span class=\"katex-html\" aria-hidden=\"true\"><span class=\"base\"><span class=\"strut\" style=\"height: 1em; vertical-align: -0.25em;\"></span><span class=\"mord mathnormal\" style=\"margin-right: 0.0278em;\">O</span><span class=\"mopen\">(</span><span class=\"mord mathnormal\">n</span><span class=\"mclose\">)</span></span></span></span></span></td>\n",
    "    </tr>\n",
    "    <tr>\n",
    "      <td>Adding to end (<code class=\"language-plaintext highlighter-rouge\">append</code>)</td>\n",
    "      <td><span><span class=\"katex\"><span class=\"katex-mathml\"><math xmlns=\"http://www.w3.org/1998/Math/MathML\"><semantics><mrow><mi>O</mi><mo stretchy=\"false\">(</mo><mn>1</mn><mo stretchy=\"false\">)</mo></mrow><annotation encoding=\"application/x-tex\">O(1)</annotation></semantics></math></span><span class=\"katex-html\" aria-hidden=\"true\"><span class=\"base\"><span class=\"strut\" style=\"height: 1em; vertical-align: -0.25em;\"></span><span class=\"mord mathnormal\" style=\"margin-right: 0.0278em;\">O</span><span class=\"mopen\">(</span><span class=\"mord\">1</span><span class=\"mclose\">)</span></span></span></span></span></td>\n",
    "    </tr>\n",
    "    <tr>\n",
    "      <td>Adding to middle (<code class=\"language-plaintext highlighter-rouge\">insert</code>)</td>\n",
    "      <td><span><span class=\"katex\"><span class=\"katex-mathml\"><math xmlns=\"http://www.w3.org/1998/Math/MathML\"><semantics><mrow><mi>O</mi><mo stretchy=\"false\">(</mo><mi>n</mi><mo stretchy=\"false\">)</mo></mrow><annotation encoding=\"application/x-tex\">O(n)</annotation></semantics></math></span><span class=\"katex-html\" aria-hidden=\"true\"><span class=\"base\"><span class=\"strut\" style=\"height: 1em; vertical-align: -0.25em;\"></span><span class=\"mord mathnormal\" style=\"margin-right: 0.0278em;\">O</span><span class=\"mopen\">(</span><span class=\"mord mathnormal\">n</span><span class=\"mclose\">)</span></span></span></span></span></td>\n",
    "    </tr>\n",
    "    <tr>\n",
    "      <td>Removing from end (<code class=\"language-plaintext highlighter-rouge\">pop</code>)</td>\n",
    "      <td><span><span class=\"katex\"><span class=\"katex-mathml\"><math xmlns=\"http://www.w3.org/1998/Math/MathML\"><semantics><mrow><mi>O</mi><mo stretchy=\"false\">(</mo><mn>1</mn><mo stretchy=\"false\">)</mo></mrow><annotation encoding=\"application/x-tex\">O(1)</annotation></semantics></math></span><span class=\"katex-html\" aria-hidden=\"true\"><span class=\"base\"><span class=\"strut\" style=\"height: 1em; vertical-align: -0.25em;\"></span><span class=\"mord mathnormal\" style=\"margin-right: 0.0278em;\">O</span><span class=\"mopen\">(</span><span class=\"mord\">1</span><span class=\"mclose\">)</span></span></span></span></span></td>\n",
    "    </tr>\n",
    "    <tr>\n",
    "      <td>Removing from middle (<code class=\"language-plaintext highlighter-rouge\">pop</code>)</td>\n",
    "      <td><span><span class=\"katex\"><span class=\"katex-mathml\"><math xmlns=\"http://www.w3.org/1998/Math/MathML\"><semantics><mrow><mi>O</mi><mo stretchy=\"false\">(</mo><mi>n</mi><mo stretchy=\"false\">)</mo></mrow><annotation encoding=\"application/x-tex\">O(n)</annotation></semantics></math></span><span class=\"katex-html\" aria-hidden=\"true\"><span class=\"base\"><span class=\"strut\" style=\"height: 1em; vertical-align: -0.25em;\"></span><span class=\"mord mathnormal\" style=\"margin-right: 0.0278em;\">O</span><span class=\"mopen\">(</span><span class=\"mord mathnormal\">n</span><span class=\"mclose\">)</span></span></span></span></span></td>\n",
    "    </tr>\n",
    "    <tr>\n",
    "      <td>Searching and removing (<code class=\"language-plaintext highlighter-rouge\">remove</code>)</td>\n",
    "      <td><span><span class=\"katex\"><span class=\"katex-mathml\"><math xmlns=\"http://www.w3.org/1998/Math/MathML\"><semantics><mrow><mi>O</mi><mo stretchy=\"false\">(</mo><mi>n</mi><mo stretchy=\"false\">)</mo></mrow><annotation encoding=\"application/x-tex\">O(n)</annotation></semantics></math></span><span class=\"katex-html\" aria-hidden=\"true\"><span class=\"base\"><span class=\"strut\" style=\"height: 1em; vertical-align: -0.25em;\"></span><span class=\"mord mathnormal\" style=\"margin-right: 0.0278em;\">O</span><span class=\"mopen\">(</span><span class=\"mord mathnormal\">n</span><span class=\"mclose\">)</span></span></span></span></span></td>\n",
    "    </tr>\n",
    "  </tbody>\n",
    "</table>"
   ]
  },
  {
   "cell_type": "markdown",
   "metadata": {},
   "source": [
    "### References and Copying\n",
    "Referencing is setting a variable to reference the same memory location as the original list.\\\n",
    "Copying actually copies the content from the original into a new memory location."
   ]
  },
  {
   "cell_type": "code",
   "execution_count": 6,
   "metadata": {},
   "outputs": [
    {
     "name": "stdout",
     "output_type": "stream",
     "text": [
      "[1, 2, 6, [2, 4], [4, 7], 32]\n",
      "[1, 2, 6, [2, 4], [4, 7], 32]\n"
     ]
    }
   ],
   "source": [
    "my_list2 = my_list\n",
    "my_list.append(32)\n",
    "print(my_list)\n",
    "print(my_list2)"
   ]
  },
  {
   "cell_type": "code",
   "execution_count": 7,
   "metadata": {},
   "outputs": [
    {
     "name": "stdout",
     "output_type": "stream",
     "text": [
      "[1, 2, 6, [2, 4], [4, 7], 32, 64]\n",
      "[1, 2, 6, [2, 4], [4, 7], 32]\n"
     ]
    }
   ],
   "source": [
    "my_list_copy = my_list.copy()\n",
    "my_list.append(64)\n",
    "print(my_list)\n",
    "print(my_list_copy)"
   ]
  },
  {
   "cell_type": "markdown",
   "metadata": {},
   "source": [
    "Copying a reference takes O(1) time, while copying the contents needs O(n) time. Thus the line b = a takes O(1) time, and the line b = a.copy() takes O(n) time."
   ]
  },
  {
   "cell_type": "markdown",
   "metadata": {},
   "source": [
    "### Side effects of functions\n",
    "When a function is given a data structure as a parameter, only a reference is copied. Then the function can cause side effects, if it changes the contents of the data structure."
   ]
  },
  {
   "cell_type": "code",
   "execution_count": 8,
   "metadata": {},
   "outputs": [],
   "source": [
    "def triple(numbers):\n",
    "    for i in range(len(numbers)):\n",
    "        numbers[i] *= 3\n",
    "    return numbers"
   ]
  },
  {
   "cell_type": "code",
   "execution_count": 9,
   "metadata": {},
   "outputs": [
    {
     "name": "stdout",
     "output_type": "stream",
     "text": [
      "[3, 6, 18, [2, 4, 2, 4, 2, 4], [4, 7, 4, 7, 4, 7], 96, 192]\n",
      "[3, 6, 18, [2, 4, 2, 4, 2, 4], [4, 7, 4, 7, 4, 7], 96, 192]\n"
     ]
    }
   ],
   "source": [
    "my_list = [1, 2, 6, [2, 4], [4, 7], 32, 64]\n",
    "print(triple(my_list))\n",
    "print(my_list)"
   ]
  },
  {
   "cell_type": "code",
   "execution_count": 10,
   "metadata": {},
   "outputs": [],
   "source": [
    "def triple2(numbers):\n",
    "    result = numbers.copy()\n",
    "    for i in range(len(result)):\n",
    "        result[i] *= 3\n",
    "    return result"
   ]
  },
  {
   "cell_type": "code",
   "execution_count": 11,
   "metadata": {},
   "outputs": [
    {
     "name": "stdout",
     "output_type": "stream",
     "text": [
      "[3, 6, 18, [2, 4, 2, 4, 2, 4], [4, 7, 4, 7, 4, 7], 96, 192]\n",
      "[1, 2, 6, [2, 4, 2, 4, 2, 4], [4, 7, 4, 7, 4, 7], 32, 64]\n"
     ]
    }
   ],
   "source": [
    "my_list = [1, 2, 6, [2, 4], [4, 7], 32, 64]\n",
    "print(triple2(my_list))\n",
    "print(my_list)"
   ]
  },
  {
   "cell_type": "markdown",
   "metadata": {},
   "source": [
    "Strange!\\\n",
    "Actually, `result = numbers.copy()` creates a shallow copy of my_list.\n",
    "This means that for immutable elements (like integers), copies are independent, but for mutable elements (like lists), both `result` and `my_list` reference the same object.\n",
    "\n",
    "For index 3:\\\n",
    "result[3] is [2, 4] (a list). The operation `result[3] *= 3` is equivalent to [2, 4] = [2, 4] * 3, which produces `[2, 4, 2, 4, 2, 4]`.\\\n",
    "However, since this inner list is mutable and is shared between result and my_list, both now see the changed list.\n",
    "\n",
    "In order to avoid the changes in the original list, we perform a deep copy"
   ]
  },
  {
   "cell_type": "code",
   "execution_count": 12,
   "metadata": {},
   "outputs": [],
   "source": [
    "import copy\n",
    "def triple2(numbers):\n",
    "    result = copy.deepcopy(numbers)\n",
    "    for i in range(len(result)):\n",
    "        result[i] *= 3\n",
    "    return result"
   ]
  },
  {
   "cell_type": "code",
   "execution_count": 13,
   "metadata": {},
   "outputs": [
    {
     "name": "stdout",
     "output_type": "stream",
     "text": [
      "[3, 6, 18, [2, 4, 2, 4, 2, 4], [4, 7, 4, 7, 4, 7], 96, 192]\n",
      "[1, 2, 6, [2, 4], [4, 7], 32, 64]\n"
     ]
    }
   ],
   "source": [
    "my_list = [1, 2, 6, [2, 4], [4, 7], 32, 64]\n",
    "print(triple2(my_list))\n",
    "print(my_list)"
   ]
  },
  {
   "cell_type": "markdown",
   "metadata": {},
   "source": [
    "### Other operations\n",
    "* Concatenation: This takes O(n) time, because the operator copies the elements from the original lists to the new list.\n",
    "* Slicing: The Python slice operator ([:]) creates a new list that contains a copy of a segment of the given list. This operator needs O(n) time because it copies the contents from the old list to the new list."
   ]
  },
  {
   "cell_type": "markdown",
   "metadata": {},
   "source": [
    "In low level languages (such as C++ and Java), the basic data structure is usually the array. Like a list, an array is a sequence of consecutive elements that can be accessed with indexing. However, an array is assigned a fixed memory area when it is created and its size cannot be changed later. When a variable size is required, these languages have other data structures."
   ]
  },
  {
   "cell_type": "markdown",
   "metadata": {},
   "source": [
    "## **Practice**"
   ]
  },
  {
   "cell_type": "markdown",
   "metadata": {},
   "source": [
    "#### Array Problem #1: Maximum Consecutive Ones\n",
    "**Problem:**\n",
    "Given a binary array nums, return the maximum number of consecutive 1s in the array.\n",
    "\n",
    "**Example:**\n",
    "\n",
    "```\n",
    "Input: nums = [1,1,0,1,1,1]\n",
    "Output: 3\n",
    "```\n"
   ]
  },
  {
   "cell_type": "code",
   "execution_count": 14,
   "metadata": {},
   "outputs": [],
   "source": [
    "def findMaxConsecutiveOnes(nums: list[int]) -> int:\n",
    "    current_count = max_count = 0\n",
    "    for num in nums:\n",
    "        if num == 1:\n",
    "            current_count += 1\n",
    "            max_count = max(current_count, max_count)\n",
    "        else:\n",
    "            current_count = 0\n",
    "    return max_count"
   ]
  },
  {
   "cell_type": "code",
   "execution_count": 15,
   "metadata": {},
   "outputs": [
    {
     "data": {
      "text/plain": [
       "5"
      ]
     },
     "execution_count": 15,
     "metadata": {},
     "output_type": "execute_result"
    }
   ],
   "source": [
    "findMaxConsecutiveOnes([1,1,1,1,1,0,1,1,1,0,1,1,1,1])"
   ]
  },
  {
   "cell_type": "markdown",
   "metadata": {},
   "source": [
    "#### Array Problem #2: Max Consecutive 1s (You Can Flip One 0)\n",
    "**Problem:**\n",
    "Given a binary array nums, return the maximum number of consecutive 1s you can get by flipping at most one 0.\n",
    "\n",
    "**Example:**\n",
    "```\n",
    "Input: nums = [1,0,1,1,0]\n",
    "Output: 4\n",
    "```\n",
    "**Explanation:** Flip the second 0 to get [1,1,1,1,0]"
   ]
  },
  {
   "cell_type": "code",
   "execution_count": 16,
   "metadata": {},
   "outputs": [],
   "source": [
    "def findMaxConsecutiveOnesFlipZero(nums: list[int]) -> int:\n",
    "    left = zero_count = max_count = 0\n",
    "\n",
    "    for right, num in enumerate(nums):\n",
    "        if num == 0:\n",
    "            zero_count += 1\n",
    "        \n",
    "        while zero_count > 1:\n",
    "            if nums[left] == 0:\n",
    "                zero_count -= 1\n",
    "            left += 1\n",
    "        max_count = max(max_count, right - left + 1)\n",
    "    return max_count"
   ]
  },
  {
   "cell_type": "code",
   "execution_count": 17,
   "metadata": {},
   "outputs": [
    {
     "data": {
      "text/plain": [
       "7"
      ]
     },
     "execution_count": 17,
     "metadata": {},
     "output_type": "execute_result"
    }
   ],
   "source": [
    "findMaxConsecutiveOnesFlipZero([1,0,1,1,1,0,1,1,1])"
   ]
  },
  {
   "cell_type": "code",
   "execution_count": 18,
   "metadata": {},
   "outputs": [
    {
     "data": {
      "text/plain": [
       "2"
      ]
     },
     "execution_count": 18,
     "metadata": {},
     "output_type": "execute_result"
    }
   ],
   "source": [
    "1-0+1"
   ]
  },
  {
   "cell_type": "markdown",
   "metadata": {},
   "source": [
    "#### Problem: Maximum Average Subarray I\n",
    "**Difficulty:** Easy-to-Medium\n",
    "**Category:** Arrays, Sliding Window (Fixed size)\n",
    "\n",
    "**Prompt:**\n",
    "Given an array nums of length n and an integer k,\n",
    "find the maximum average value of any contiguous subarray of length k.\n",
    "\n",
    "Return the maximum average as a float.\n",
    "\n",
    "**Example:**\n",
    "```\n",
    "Input: nums = [1, 12, -5, -6, 50, 3], k = 4  \n",
    "Output: 12.75\n",
    "\n",
    "# Explanation:\n",
    "# Subarray [12, -5, -6, 50] has the maximum average: (12 - 5 - 6 + 50) / 4 = 51 / 4 = 12.75\n",
    "\n",
    "```\n",
    "\n",
    "**Constraints:**\n",
    "\n",
    "1 ≤ k ≤ len(nums) ≤ 10⁵\n",
    "\n",
    "-10⁴ ≤ nums[i] ≤ 10⁴"
   ]
  },
  {
   "cell_type": "code",
   "execution_count": null,
   "metadata": {},
   "outputs": [],
   "source": [
    "def MaxAvgSubarray(nums: list[int], k: int) -> float:\n",
    "    right = k - 1\n",
    "    left = current_avg = max_avg = 0\n",
    "    while right < len(nums):\n",
    "        current_avg = sum(nums[left:right+1])/k\n",
    "        max_avg = max(max_avg, current_avg)\n",
    "        right += 1\n",
    "        left += 1\n",
    "    return max_avg"
   ]
  },
  {
   "cell_type": "code",
   "execution_count": 22,
   "metadata": {},
   "outputs": [
    {
     "data": {
      "text/plain": [
       "12.75"
      ]
     },
     "execution_count": 22,
     "metadata": {},
     "output_type": "execute_result"
    }
   ],
   "source": [
    "MaxAvgSubarray([1, 12, -5, -6, 50, 3], 4)"
   ]
  },
  {
   "cell_type": "markdown",
   "metadata": {},
   "source": [
    "Problems: Computing sum every iteration O(nk)\\\n",
    "Solution: Use a window sum instead"
   ]
  },
  {
   "cell_type": "code",
   "execution_count": 27,
   "metadata": {},
   "outputs": [],
   "source": [
    "def MaxAvgSubarray(nums: list[int], k: int) -> float:\n",
    "    window_sum = sum(nums[:k])\n",
    "    max_avg = window_sum/k\n",
    "\n",
    "    for i in range(k, len(nums)):\n",
    "        window_sum += nums[i] - nums[i - k]\n",
    "        max_avg = max(max_avg, window_sum/k)\n",
    "    return max_avg"
   ]
  },
  {
   "cell_type": "code",
   "execution_count": 28,
   "metadata": {},
   "outputs": [
    {
     "data": {
      "text/plain": [
       "12.75"
      ]
     },
     "execution_count": 28,
     "metadata": {},
     "output_type": "execute_result"
    }
   ],
   "source": [
    "MaxAvgSubarray([1, 12, -5, -6, 50, 3], 4)"
   ]
  },
  {
   "cell_type": "markdown",
   "metadata": {},
   "source": [
    "We slide the window and add the new element to the window_sum (nums[i]) and subtract the one we took out (nums[i - k])"
   ]
  },
  {
   "cell_type": "code",
   "execution_count": null,
   "metadata": {},
   "outputs": [],
   "source": []
  }
 ],
 "metadata": {
  "kernelspec": {
   "display_name": "Conda (base)",
   "language": "python",
   "name": "base"
  },
  "language_info": {
   "codemirror_mode": {
    "name": "ipython",
    "version": 3
   },
   "file_extension": ".py",
   "mimetype": "text/x-python",
   "name": "python",
   "nbconvert_exporter": "python",
   "pygments_lexer": "ipython3",
   "version": "3.12.4"
  }
 },
 "nbformat": 4,
 "nbformat_minor": 2
}

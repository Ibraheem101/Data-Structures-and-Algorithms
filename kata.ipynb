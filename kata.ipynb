{
 "cells": [
  {
   "cell_type": "code",
   "execution_count": 1,
   "metadata": {},
   "outputs": [
    {
     "data": {
      "text/plain": [
       "'Hi'"
      ]
     },
     "execution_count": 1,
     "metadata": {},
     "output_type": "execute_result"
    }
   ],
   "source": [
    "\"\"\"Hi\"\"\""
   ]
  },
  {
   "cell_type": "markdown",
   "metadata": {},
   "source": [
    "Implementing algorithms more efficiently"
   ]
  },
  {
   "cell_type": "code",
   "execution_count": 2,
   "metadata": {},
   "outputs": [],
   "source": [
    "def count_even(numbers: list) -> int:\n",
    "    \"\"\"Count even numbers in alist\"\"\"\n",
    "    result = 0\n",
    "    for number in numbers:\n",
    "        if number % 2 == 0:\n",
    "            result += 1\n",
    "    return result"
   ]
  },
  {
   "cell_type": "code",
   "execution_count": 3,
   "metadata": {},
   "outputs": [
    {
     "data": {
      "text/plain": [
       "5"
      ]
     },
     "execution_count": 3,
     "metadata": {},
     "output_type": "execute_result"
    }
   ],
   "source": [
    "count_even([0, 1, 2, 3, 4, 5, 6, 7, 8, 9])"
   ]
  },
  {
   "cell_type": "code",
   "execution_count": 4,
   "metadata": {},
   "outputs": [],
   "source": [
    "def count_even2(numbers: list) -> int:\n",
    "    \"\"\"Count even numbers in alist\"\"\"\n",
    "    return sum(number %2 == 0 for number in numbers)"
   ]
  },
  {
   "cell_type": "code",
   "execution_count": 5,
   "metadata": {},
   "outputs": [
    {
     "data": {
      "text/plain": [
       "5"
      ]
     },
     "execution_count": 5,
     "metadata": {},
     "output_type": "execute_result"
    }
   ],
   "source": [
    "count_even2([0, 1, 2, 3, 4, 5, 6, 7, 8, 9])"
   ]
  },
  {
   "cell_type": "markdown",
   "metadata": {},
   "source": [
    "Count min values in a list"
   ]
  },
  {
   "cell_type": "code",
   "execution_count": 6,
   "metadata": {},
   "outputs": [],
   "source": [
    "def count_min(numbers: list) -> int:\n",
    "    return sum(x == min(numbers) for x in numbers)"
   ]
  },
  {
   "cell_type": "code",
   "execution_count": 7,
   "metadata": {},
   "outputs": [
    {
     "data": {
      "text/plain": [
       "4"
      ]
     },
     "execution_count": 7,
     "metadata": {},
     "output_type": "execute_result"
    }
   ],
   "source": [
    "count_min([0, 0, 0, 3, 4, 5, 6, 0, 8, 9])"
   ]
  },
  {
   "cell_type": "markdown",
   "metadata": {},
   "source": [
    "**Description**:\n",
    "Implement the function unique_in_order which takes as argument a sequence and returns a list of items without any elements with the same value next to each other and preserving the original order of elements.\n",
    "\n",
    "For example:\n",
    "```python\n",
    "unique_in_order('AAAABBBCCDAABBB') == ['A', 'B', 'C', 'D', 'A', 'B']\n",
    "unique_in_order('ABBCcAD')         == ['A', 'B', 'C', 'c', 'A', 'D']\n",
    "unique_in_order([1, 2, 2, 3, 3])   == [1, 2, 3]\n",
    "unique_in_order((1, 2, 2, 3, 3))   == [1, 2, 3]\n",
    "```"
   ]
  },
  {
   "cell_type": "code",
   "execution_count": 8,
   "metadata": {},
   "outputs": [],
   "source": [
    "from typing import Any, Sequence, List\n",
    "\n",
    "def unique_in_order(sequence: Sequence[Any]) -> List[Any]:\n",
    "    result = []\n",
    "    for item in sequence:\n",
    "        if not result or item != result[-1]:\n",
    "            result.append(item)\n",
    "    return result"
   ]
  },
  {
   "cell_type": "code",
   "execution_count": 9,
   "metadata": {},
   "outputs": [
    {
     "name": "stdout",
     "output_type": "stream",
     "text": [
      "[1, 2, 3]\n",
      "AAAABBBCCDAABBB\n"
     ]
    }
   ],
   "source": [
    "print(unique_in_order([1, 2, 2, 3, 3]))\n",
    "print('AAAABBBCCDAABBB')"
   ]
  },
  {
   "cell_type": "markdown",
   "metadata": {},
   "source": [
    "**Description**:\n",
    "Implement a function that adds two numbers together and returns their sum in binary. The conversion can be done before, or after the addition.\n",
    "\n",
    "The binary number returned should be a string.\n",
    "\n",
    "Examples:(Input1, Input2 --> Output (explanation)))\n",
    "```sql\n",
    "1, 1 --> \"10\" (1 + 1 = 2 in decimal or 10 in binary)\n",
    "5, 9 --> \"1110\" (5 + 9 = 14 in decimal or 1110 in binary)\n",
    "```"
   ]
  },
  {
   "cell_type": "code",
   "execution_count": 10,
   "metadata": {},
   "outputs": [],
   "source": [
    "def add_binary(a: int, b: int) -> str:\n",
    "    c = a + b\n",
    "    c_binary = ''\n",
    "    \n",
    "    while c > 0:\n",
    "        c_binary += str(c % 2)\n",
    "        c = c // 2\n",
    "    return c_binary[::-1]"
   ]
  },
  {
   "cell_type": "code",
   "execution_count": 11,
   "metadata": {},
   "outputs": [
    {
     "name": "stdout",
     "output_type": "stream",
     "text": [
      "1110\n"
     ]
    }
   ],
   "source": [
    "print(add_binary(5, 9))"
   ]
  },
  {
   "cell_type": "markdown",
   "metadata": {},
   "source": [
    "In Python, strings are immutable, meaning that once a string is created, it cannot be modified in place. So when you concatenate two strings, a new string is created and the contents of the original strings are copied into this new string.\n",
    "\n",
    "concatenating strings repeatedly in a loop creates a new string at each iteration, leading to a higher time complexity (typically *𝑂(𝑛<sup>2</sup>)* for 𝑛  concatenations). On the other hand, appending elements to a list is efficient (amortized 𝑂(1) per append), and then joining them with `''.join()` is *𝑂(𝑛)*."
   ]
  },
  {
   "cell_type": "code",
   "execution_count": 12,
   "metadata": {},
   "outputs": [],
   "source": [
    "def add_binary(a: int, b: int) -> str:\n",
    "    c = a + b\n",
    "    c_binary = []\n",
    "    \n",
    "    while c > 0:\n",
    "        c_binary.append(str(c % 2))\n",
    "        c //= 2\n",
    "    return ''.join(reversed(c_binary))"
   ]
  },
  {
   "cell_type": "code",
   "execution_count": 13,
   "metadata": {},
   "outputs": [
    {
     "data": {
      "text/plain": [
       "'1110'"
      ]
     },
     "execution_count": 13,
     "metadata": {},
     "output_type": "execute_result"
    }
   ],
   "source": [
    "add_binary(5, 9)"
   ]
  },
  {
   "cell_type": "code",
   "execution_count": 14,
   "metadata": {},
   "outputs": [],
   "source": [
    "# Built-in function\n",
    "def add_binary3(a, b):\n",
    "    return bin(a+b)[2:]"
   ]
  },
  {
   "cell_type": "code",
   "execution_count": 15,
   "metadata": {},
   "outputs": [
    {
     "data": {
      "text/plain": [
       "'1011'"
      ]
     },
     "execution_count": 15,
     "metadata": {},
     "output_type": "execute_result"
    }
   ],
   "source": [
    "add_binary3(9, 2)"
   ]
  },
  {
   "cell_type": "markdown",
   "metadata": {},
   "source": [
    "**Description**\n",
    "<div class=\"markdown prose max-w-none mb-8\" id=\"description\"><p>Some numbers have funny properties. For example:</p>\n",
    "<ul>\n",
    "<li>89 --&gt; 8¹ + 9² = 89 * 1</li>\n",
    "<li>695 --&gt; 6² + 9³ + 5⁴= 1390 = 695 * 2</li>\n",
    "<li>46288 --&gt; 4³ + 6⁴+ 2⁵ + 8⁶ + 8⁷ = 2360688 = 46288 * 51</li>\n",
    "</ul>\n",
    "<p>Given two positive integers <code>n</code> and <code>p</code>, we want to find a positive integer <code>k</code>, if it exists, such that the sum of the digits of <code>n</code> raised to consecutive powers starting from <code>p</code> is equal to <code>k * n</code>. </p>\n",
    "<p>In other words, writing the consecutive digits of <code>n</code> as <code>a, b, c, d ...</code>, is there an integer <code>k</code> such that :</p>\n",
    "<div><span class=\"katex\"><span class=\"katex-mathml\"><math xmlns=\"http://www.w3.org/1998/Math/MathML\"><mrow><mo stretchy=\"false\">(</mo><msup><mi>a</mi><mi>p</mi></msup><mo>+</mo><msup><mi>b</mi><mrow><mi>p</mi><mo>+</mo><mn>1</mn></mrow></msup><mo>+</mo><msup><mi>c</mi><mrow><mi>p</mi><mo>+</mo><mn>2</mn></mrow></msup><mo>+</mo><msup><mi>d</mi><mrow><mi>p</mi><mo>+</mo><mn>3</mn></mrow></msup><mo>+</mo><mi mathvariant=\"normal\">.</mi><mi mathvariant=\"normal\">.</mi><mi mathvariant=\"normal\">.</mi><mo stretchy=\"false\">)</mo><mo>=</mo><mi>n</mi><mo>∗</mo><mi>k</mi></mrow>(a^p + b^{p + 1} + c^{p + 2} + d^{p + 3} + ...) = n * k</math></span><span aria-hidden=\"true\" class=\"katex-html\"><span class=\"base\"><span style=\"height:1em;vertical-align:-0.25em;\" class=\"strut\"></span><span class=\"mopen\">(</span><span class=\"mord\"><span class=\"mord mathnormal\">a</span><span class=\"msupsub\"><span class=\"vlist-t\"><span class=\"vlist-r\"><span style=\"height:0.6644em;\" class=\"vlist\"><span style=\"top:-3.063em;margin-right:0.05em;\"><span style=\"height:2.7em;\" class=\"pstrut\"></span><span class=\"sizing reset-size6 size3 mtight\"><span class=\"mord mathnormal mtight\">p</span></span></span></span></span></span></span></span><span style=\"margin-right:0.2222em;\" class=\"mspace\"></span><span class=\"mbin\">+</span><span style=\"margin-right:0.2222em;\" class=\"mspace\"></span></span><span class=\"base\"><span style=\"height:0.8974em;vertical-align:-0.0833em;\" class=\"strut\"></span><span class=\"mord\"><span class=\"mord mathnormal\">b</span><span class=\"msupsub\"><span class=\"vlist-t\"><span class=\"vlist-r\"><span style=\"height:0.8141em;\" class=\"vlist\"><span style=\"top:-3.063em;margin-right:0.05em;\"><span style=\"height:2.7em;\" class=\"pstrut\"></span><span class=\"sizing reset-size6 size3 mtight\"><span class=\"mord mtight\"><span class=\"mord mathnormal mtight\">p</span><span class=\"mbin mtight\">+</span><span class=\"mord mtight\">1</span></span></span></span></span></span></span></span></span><span style=\"margin-right:0.2222em;\" class=\"mspace\"></span><span class=\"mbin\">+</span><span style=\"margin-right:0.2222em;\" class=\"mspace\"></span></span><span class=\"base\"><span style=\"height:0.8974em;vertical-align:-0.0833em;\" class=\"strut\"></span><span class=\"mord\"><span class=\"mord mathnormal\">c</span><span class=\"msupsub\"><span class=\"vlist-t\"><span class=\"vlist-r\"><span style=\"height:0.8141em;\" class=\"vlist\"><span style=\"top:-3.063em;margin-right:0.05em;\"><span style=\"height:2.7em;\" class=\"pstrut\"></span><span class=\"sizing reset-size6 size3 mtight\"><span class=\"mord mtight\"><span class=\"mord mathnormal mtight\">p</span><span class=\"mbin mtight\">+</span><span class=\"mord mtight\">2</span></span></span></span></span></span></span></span></span><span style=\"margin-right:0.2222em;\" class=\"mspace\"></span><span class=\"mbin\">+</span><span style=\"margin-right:0.2222em;\" class=\"mspace\"></span></span><span class=\"base\"><span style=\"height:0.8974em;vertical-align:-0.0833em;\" class=\"strut\"></span><span class=\"mord\"><span class=\"mord mathnormal\">d</span><span class=\"msupsub\"><span class=\"vlist-t\"><span class=\"vlist-r\"><span style=\"height:0.8141em;\" class=\"vlist\"><span style=\"top:-3.063em;margin-right:0.05em;\"><span style=\"height:2.7em;\" class=\"pstrut\"></span><span class=\"sizing reset-size6 size3 mtight\"><span class=\"mord mtight\"><span class=\"mord mathnormal mtight\">p</span><span class=\"mbin mtight\">+</span><span class=\"mord mtight\">3</span></span></span></span></span></span></span></span></span><span style=\"margin-right:0.2222em;\" class=\"mspace\"></span><span class=\"mbin\">+</span><span style=\"margin-right:0.2222em;\" class=\"mspace\"></span></span><span class=\"base\"><span style=\"height:1em;vertical-align:-0.25em;\" class=\"strut\"></span><span class=\"mord\">...</span><span class=\"mclose\">)</span><span style=\"margin-right:0.2778em;\" class=\"mspace\"></span><span class=\"mrel\">=</span><span style=\"margin-right:0.2778em;\" class=\"mspace\"></span></span><span class=\"base\"><span style=\"height:0.4653em;\" class=\"strut\"></span><span class=\"mord mathnormal\">n</span><span style=\"margin-right:0.2222em;\" class=\"mspace\"></span><span class=\"mbin\">∗</span><span style=\"margin-right:0.2222em;\" class=\"mspace\"></span></span><span class=\"base\"><span style=\"height:0.6944em;\" class=\"strut\"></span><span style=\"margin-right:0.03148em;\" class=\"mord mathnormal\">k</span></span></span></span></div><p>If it is the case we will return <code>k</code>, if not return <code>-1</code>.</p>\n",
    "<p><strong>Note</strong>: <code>n</code> and <code>p</code> will always be strictly positive integers.</p>\n",
    "<h4 id=\"examples\">Examples:</h4>\n",
    "<pre><code>n = 89; p = 1 ---&gt; 1 since 8¹ + 9² = 89 = 89 * 1\n",
    "\n",
    "n = 92; p = 1 ---&gt; -1 since there is no k such that 9¹ + 2² equals 92 * k\n",
    "\n",
    "n = 695; p = 2 ---&gt; 2 since 6² + 9³ + 5⁴= 1390 = 695 * 2\n",
    "\n",
    "n = 46288; p = 3 ---&gt; 51 since 4³ + 6⁴+ 2⁵ + 8⁶ + 8⁷ = 2360688 = 46288 * 51\n",
    "</code></pre>\n",
    "</div>"
   ]
  },
  {
   "cell_type": "code",
   "execution_count": 16,
   "metadata": {},
   "outputs": [],
   "source": [
    "def dig_pow(n: int, p: int) -> int:\n",
    "    # (ap+bp+1+cp+2+dp+3+...)=n∗k\n",
    "    \n",
    "    sum = 0\n",
    "    for addend, digit in enumerate(str(n)):\n",
    "        # addend: 0, 1, 2, ...\n",
    "        # digit: a, b, c, ...\n",
    "        sum += int(digit) ** (p + addend) # n * k\n",
    "    return sum // n if (sum / n) % 1 == 0 else -1 # sum // n = k"
   ]
  },
  {
   "cell_type": "code",
   "execution_count": 17,
   "metadata": {},
   "outputs": [
    {
     "name": "stdout",
     "output_type": "stream",
     "text": [
      "51\n"
     ]
    }
   ],
   "source": [
    "print(dig_pow(46288, 3))"
   ]
  },
  {
   "cell_type": "markdown",
   "metadata": {},
   "source": [
    "<div class=\"w-full panel bg-ui-section\"><h3 class=\"wf-title-alt\">Description:</h3><div class=\"markdown prose max-w-5xl mx-auto overflow-x-auto break-words\" id=\"description\"><p>If we list all the natural numbers below 10 that are multiples of 3 or 5, we get 3, 5, 6 and 9. The sum of these multiples is 23.</p>\n",
    "<p>Finish the solution so that it returns the sum of all the multiples of 3 or 5 <strong>below</strong> the number passed in. </p>\n",
    "<p>Additionally, if the number is negative, return 0.</p>\n",
    "<p><strong>Note:</strong> If the number is a multiple of <strong>both</strong> 3 and 5, only count it <em>once</em>.</p>\n",
    "<p><em><strong>Courtesy of projecteuler.net</strong> (<a href=\"https://projecteuler.net/problem=1\" data-turbolinks=\"false\" target=\"_blank\">Problem 1</a>)</em></p>\n",
    "</div><div class=\"pt-4 max-w-5xl mx-auto\"><div class=\"mt-4\"><span><i class=\"icon-moon-tag \"></i></span><div class=\"keyword-tag\">Mathematics</div><div class=\"keyword-tag\">Algorithms</div></div></div></div>"
   ]
  },
  {
   "cell_type": "code",
   "execution_count": 18,
   "metadata": {},
   "outputs": [],
   "source": [
    "def solution(number: int) -> int:\n",
    "    if number < 0:\n",
    "        return 0\n",
    "    else:\n",
    "        return sum([i for i in range(number) if i%3==0 or i%5 == 0])"
   ]
  },
  {
   "cell_type": "code",
   "execution_count": 19,
   "metadata": {},
   "outputs": [
    {
     "name": "stdout",
     "output_type": "stream",
     "text": [
      "2318\n"
     ]
    }
   ],
   "source": [
    "print(solution(100))"
   ]
  },
  {
   "cell_type": "code",
   "execution_count": null,
   "metadata": {},
   "outputs": [],
   "source": []
  }
 ],
 "metadata": {
  "kernelspec": {
   "display_name": "Conda (base)",
   "language": "python",
   "name": "base"
  },
  "language_info": {
   "codemirror_mode": {
    "name": "ipython",
    "version": 3
   },
   "file_extension": ".py",
   "mimetype": "text/x-python",
   "name": "python",
   "nbconvert_exporter": "python",
   "pygments_lexer": "ipython3",
   "version": "3.12.4"
  }
 },
 "nbformat": 4,
 "nbformat_minor": 2
}

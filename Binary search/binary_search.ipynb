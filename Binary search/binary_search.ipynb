{
 "cells": [
  {
   "cell_type": "markdown",
   "metadata": {},
   "source": [
    "# Binary Search"
   ]
  },
  {
   "cell_type": "markdown",
   "metadata": {},
   "source": [
    "[Click this link for binary search problems](https://medium.com/techie-delight/binary-search-practice-problems-4c856cd9f26c)"
   ]
  },
  {
   "cell_type": "markdown",
   "metadata": {},
   "source": [
    "* Find the number of rotations in a circularly sorted array"
   ]
  },
  {
   "cell_type": "markdown",
   "metadata": {},
   "source": [
    "Using linear Search\\\n",
    "Example of rotated sorted array: [2, 3, 4, 5, 6, 7] is rotated anti-clockwise [6, 7, 2, 3, 4, 5]"
   ]
  },
  {
   "cell_type": "code",
   "execution_count": 2,
   "metadata": {},
   "outputs": [],
   "source": [
    "# From above, it is clear that the number of rotations is the the index of the smallest number\n",
    "# Running a simple linear search\n",
    "def number_of_rotations(arr):\n",
    "    index = 0\n",
    "    smallest = arr[0]\n",
    "    for i in range(len(arr)):\n",
    "        if arr[i] < smallest:\n",
    "            smallest = arr[i]\n",
    "            index = i\n",
    "    return index"
   ]
  },
  {
   "cell_type": "code",
   "execution_count": 4,
   "metadata": {},
   "outputs": [
    {
     "data": {
      "text/plain": [
       "3"
      ]
     },
     "execution_count": 4,
     "metadata": {},
     "output_type": "execute_result"
    }
   ],
   "source": [
    "number_of_rotations([8, 6, 7, 2, 3, 4, 5])"
   ]
  },
  {
   "cell_type": "markdown",
   "metadata": {},
   "source": [
    "The complexity is O(N). There is a faster way to do this with binary search."
   ]
  },
  {
   "cell_type": "code",
   "execution_count": 28,
   "metadata": {},
   "outputs": [],
   "source": [
    "def number_of_rotations2(arr):\n",
    "    low = 0\n",
    "    high = len(arr) - 1\n",
    "\n",
    "    while low <= high:\n",
    "        middle = (high + low) // 2\n",
    "        next = middle + 1\n",
    "        prev = middle - 1\n",
    "\n",
    "        if arr[low] <= arr[high]:\n",
    "            return low\n",
    "\n",
    "        if arr[middle] <= arr[next] and arr[middle] <= arr[prev]:\n",
    "            return middle\n",
    "        elif arr[middle] <= arr[high]:\n",
    "\t        high = middle - 1\n",
    "        elif arr[middle] >= arr[high]:\n",
    "            low = middle + 1\n",
    "\n",
    "    return \"None\""
   ]
  },
  {
   "cell_type": "markdown",
   "metadata": {},
   "source": [
    "The time complexity is O(logN)"
   ]
  },
  {
   "cell_type": "code",
   "execution_count": 31,
   "metadata": {},
   "outputs": [
    {
     "data": {
      "text/plain": [
       "5"
      ]
     },
     "execution_count": 31,
     "metadata": {},
     "output_type": "execute_result"
    }
   ],
   "source": [
    "number_of_rotations2([2, 3, 4, 5, 6, 1])"
   ]
  },
  {
   "cell_type": "code",
   "execution_count": null,
   "metadata": {},
   "outputs": [],
   "source": [
    "# # Function to find the total number of times the list is rotated\n",
    "# def findRotationCount(nums):\n",
    "\n",
    "# \t# search space is nums[left…right]\n",
    "# \t(left, right) = (0, len(nums) - 1)\n",
    "\n",
    "# \t# loop till the search space is exhausted\n",
    "# \twhile left <= right:\n",
    "\n",
    "# \t\t# if the search space is already sorted, we have\n",
    "# \t\t# found the minimum element (at index `left`)\n",
    "# \t\tif nums[left] <= nums[right]:\n",
    "# \t\t\treturn left\n",
    "\n",
    "# \t\tmid = (left + right) // 2\n",
    "\n",
    "# \t\t# find the next and previous element of the `mid` element (in circular manner)\n",
    "# \t\tnext = (mid + 1) % len(nums)\n",
    "# \t\tprev = (mid - 1 + len(nums)) % len(nums)\n",
    "\n",
    "# \t\t# if the `mid` element is less than both its next and previous\n",
    "# \t\t# neighbor, it is the list's minimum element\n",
    "\n",
    "# \t\tif nums[mid] <= nums[next] and nums[mid] <= nums[prev]:\n",
    "# \t\t\treturn mid\n",
    "\n",
    "# \t\t# if nums[mid…right] is sorted, and `mid` is not the minimum element,\n",
    "# \t\t# then the pivot element cannot be present in nums[mid…right],\n",
    "# \t\t# discard nums[mid…right] and search in the left half\n",
    "\n",
    "# \t\telif nums[mid] <= nums[right]:\n",
    "# \t\t\tright = mid - 1\n",
    "\n",
    "# \t\t# if nums[left…mid] is sorted, then the pivot element cannot be present in it;\n",
    "# \t\t# discard nums[left…mid] and search in the right half\n",
    "\n",
    "# \t\telif nums[mid] >= nums[left]:\n",
    "# \t\t\tleft = mid + 1\n",
    "\n",
    "# \t# invalid input\n",
    "# \treturn -1\n",
    "\n",
    "\n",
    "# if __name__ == '__main__':\n",
    "\n",
    "# \tnums = [8, 9, 10, 1, 2, 3, 4, 5, 6, 7]\n",
    "# \tprint(f'The list is rotated {findRotationCount(nums)} times')\n"
   ]
  },
  {
   "cell_type": "markdown",
   "metadata": {},
   "source": [
    "* Search an element in a circularly sorted array"
   ]
  },
  {
   "cell_type": "code",
   "execution_count": 36,
   "metadata": {},
   "outputs": [],
   "source": [
    "# Trial\n",
    "# Linear Search\n",
    "def find_element(arr, element):\n",
    "    for i in range(len(arr)):\n",
    "        if arr[i] == element:\n",
    "            return f\"{arr[i]} at index {i}\"\n",
    "    return \"None\"\n"
   ]
  },
  {
   "cell_type": "code",
   "execution_count": 39,
   "metadata": {},
   "outputs": [
    {
     "data": {
      "text/plain": [
       "'2 at index 3'"
      ]
     },
     "execution_count": 39,
     "metadata": {},
     "output_type": "execute_result"
    }
   ],
   "source": [
    "find_element([8, 9, 10, 2, 5, 6], 2)"
   ]
  },
  {
   "cell_type": "code",
   "execution_count": 77,
   "metadata": {},
   "outputs": [],
   "source": [
    "# Binary Search\n",
    "def find_element2(arr, element):\n",
    "    low = 0\n",
    "    high = len(arr) - 1\n",
    "    \n",
    "\n",
    "    while low <= high:\n",
    "        mid = (high + low) // 2\n",
    "\n",
    "        if arr[mid] == element:\n",
    "            return mid\n",
    "        \n",
    "        if arr[mid] >= arr[low]:\n",
    "            if arr[low] <= element and element < arr[mid]:\n",
    "                high = mid - 1\n",
    "            else:\n",
    "                low = mid + 1\n",
    "        \n",
    "        elif arr[mid] <= arr[high]:\n",
    "            if arr[high] >= element and element > arr[mid]:\n",
    "                low = mid + 1\n",
    "            else:\n",
    "                high = mid - 1\n",
    "    \n",
    "    return -1\n",
    "            \n",
    "\n",
    "    "
   ]
  },
  {
   "cell_type": "code",
   "execution_count": 89,
   "metadata": {},
   "outputs": [
    {
     "data": {
      "text/plain": [
       "3"
      ]
     },
     "execution_count": 89,
     "metadata": {},
     "output_type": "execute_result"
    }
   ],
   "source": [
    "find_element2([9, 10, 2, 5, 6, 8], 5)"
   ]
  },
  {
   "cell_type": "code",
   "execution_count": 48,
   "metadata": {},
   "outputs": [
    {
     "data": {
      "text/plain": [
       "2"
      ]
     },
     "execution_count": 48,
     "metadata": {},
     "output_type": "execute_result"
    }
   ],
   "source": [
    "5//2"
   ]
  },
  {
   "cell_type": "markdown",
   "metadata": {},
   "source": [
    "* Find the first or last occurrence of a given number in a sorted array"
   ]
  },
  {
   "cell_type": "markdown",
   "metadata": {},
   "source": []
  }
 ],
 "metadata": {
  "kernelspec": {
   "display_name": "Python 3.9.7 ('base')",
   "language": "python",
   "name": "python3"
  },
  "language_info": {
   "codemirror_mode": {
    "name": "ipython",
    "version": 3
   },
   "file_extension": ".py",
   "mimetype": "text/x-python",
   "name": "python",
   "nbconvert_exporter": "python",
   "pygments_lexer": "ipython3",
   "version": "3.9.7"
  },
  "orig_nbformat": 4,
  "vscode": {
   "interpreter": {
    "hash": "f08154012ddadd8e950e6e9e035c7a7b32c136e7647e9b7c77e02eb723a8bedb"
   }
  }
 },
 "nbformat": 4,
 "nbformat_minor": 2
}

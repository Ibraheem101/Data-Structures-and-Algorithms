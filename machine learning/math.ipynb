{
 "cells": [
  {
   "cell_type": "markdown",
   "metadata": {},
   "source": [
    "## Write a Python function that takes the dot product of a matrix and a vector. return -1 if the matrix could not be dotted with the vector"
   ]
  },
  {
   "cell_type": "code",
   "execution_count": 1,
   "metadata": {},
   "outputs": [],
   "source": [
    "def matrix_dot_vector(a: list[list[int|float]], b: list[int|float]) -> list[int|float]:\n",
    "    \"\"\"\n",
    "    Function to return the dot product between a matrix and a vector\n",
    "    Args:\n",
    "        a (list): Matrix\n",
    "        b (list): Vector\n",
    "    Returns:\n",
    "        c (list): a * b\n",
    "    \"\"\"\n",
    "\n",
    "    c = []\n",
    "    if len(a[0]) != len(b):\n",
    "        return -1\n",
    "    else:\n",
    "        for row in a:\n",
    "            temp = 0\n",
    "            for i in range(len(row)):\n",
    "                temp += row[i] * b[i]\n",
    "            c.append(temp)\n",
    "    return c"
   ]
  },
  {
   "cell_type": "code",
   "execution_count": 3,
   "metadata": {},
   "outputs": [
    {
     "data": {
      "text/plain": [
       "[23, 5, 1]"
      ]
     },
     "execution_count": 3,
     "metadata": {},
     "output_type": "execute_result"
    }
   ],
   "source": [
    "matrix_dot_vector([[23, 45], [5, 41], [1, 2]], [1, 0])"
   ]
  },
  {
   "cell_type": "markdown",
   "metadata": {},
   "source": [
    "## Write a Python function that computes the transpose of a given matrix.\n",
    "\n",
    "Example:\\\n",
    "Input:\n",
    "```python\n",
    "a = [[1,2,3],[4,5,6]]\n",
    "Output:\n",
    "b = [[1,4],[2,5],[3,6]]"
   ]
  },
  {
   "cell_type": "code",
   "execution_count": null,
   "metadata": {},
   "outputs": [],
   "source": [
    "from typing import Union, List\n",
    "\n",
    "def transpose(matrix: List[List[Union[int, float]]]) -> List[List[Union[int, float]]]:\n",
    "    # If matrix is empty:\n",
    "    if not matrix:\n",
    "        return []\n",
    "    \n",
    "    n = len(matrix[0]) # number of columns\n",
    "    m = len(matrix) # number of rows\n",
    "    \n",
    "    transposeA = [[] for _ in range(n)]\n",
    "\n",
    "    for row in matrix:\n",
    "        for i, element in enumerate(row):\n",
    "            transposeA[i].append(element)\n",
    "    return transposeA"
   ]
  },
  {
   "cell_type": "code",
   "execution_count": null,
   "metadata": {},
   "outputs": [],
   "source": [
    "# Test\n",
    "print(transpose([[1, 4], [2, 5], [3, 8]]))"
   ]
  },
  {
   "cell_type": "code",
   "execution_count": 4,
   "metadata": {},
   "outputs": [],
   "source": [
    "# One-liner\n",
    "def transpose2(matrix):\n",
    "    return list(map(list, zip(*matrix)))"
   ]
  },
  {
   "cell_type": "code",
   "execution_count": 5,
   "metadata": {},
   "outputs": [
    {
     "name": "stdout",
     "output_type": "stream",
     "text": [
      "[[1, 2, 3], [4, 5, 8]]\n"
     ]
    }
   ],
   "source": [
    "print(transpose2([[1, 4], [2, 5], [3, 8]]))"
   ]
  },
  {
   "cell_type": "markdown",
   "metadata": {},
   "source": [
    "\n",
    "---\n",
    "\n",
    "#### **Original Nested Loop Implementation**\n",
    "\n",
    "**Time Complexity:**\n",
    "\n",
    "- The outer loop runs over every row in the matrix (m rows).\n",
    "- The inner loop runs over every element in a row (n columns).\n",
    "- Therefore, the total number of iterations is \\(m \\times n\\).\n",
    "- **Overall Time Complexity:** \\(O(m \\times n)\\).\n",
    "\n",
    "**Space Complexity:**\n",
    "\n",
    "- A new list `b` is created with \\(n\\) empty lists.\n",
    "- Then each element from the original matrix (m \\(\\times\\) n total elements) is appended to one of these lists.\n",
    "- **Overall Space Complexity:** \\(O(m \\times n)\\) (to store the transposed matrix).\n",
    "\n",
    "---\n",
    "\n",
    "#### **One-Liner Using `zip`**\n",
    "\n",
    "**Time Complexity:**\n",
    "\n",
    "- The `zip(*matrix)` unpacks the matrix and iterates once over each row to form tuples of corresponding elements. Under the hood, zip does a similar pairing operation to our nested loops.\n",
    "- The conversion `map(list, ...)` then iterates over each tuple to create a list.\n",
    "- Overall, it still processes \\(m \\times n\\) elements.\n",
    "- **Overall Time Complexity:** \\(O(m \\times n)\\).\n",
    "\n",
    "**Space Complexity:**\n",
    "\n",
    "- `zip(*matrix)` creates an iterator of tuples; these tuples together represent \\(m \\times n\\) elements.\n",
    "- Then, `map(list, ...)` converts each tuple into a list. Finally, `list(...)` gathers them into a list.\n",
    "- **Overall Space Complexity:** \\(O(m \\times n)\\) to store the transposed matrix.\n",
    "\n",
    "---"
   ]
  },
  {
   "cell_type": "code",
   "execution_count": null,
   "metadata": {},
   "outputs": [],
   "source": []
  }
 ],
 "metadata": {
  "kernelspec": {
   "display_name": "Conda (base)",
   "language": "python",
   "name": "base"
  },
  "language_info": {
   "codemirror_mode": {
    "name": "ipython",
    "version": 3
   },
   "file_extension": ".py",
   "mimetype": "text/x-python",
   "name": "python",
   "nbconvert_exporter": "python",
   "pygments_lexer": "ipython3",
   "version": "3.12.4"
  }
 },
 "nbformat": 4,
 "nbformat_minor": 2
}

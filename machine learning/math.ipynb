{
 "cells": [
  {
   "cell_type": "markdown",
   "metadata": {},
   "source": [
    "## Write a Python function that takes the dot product of a matrix and a vector. return -1 if the matrix could not be dotted with the vector"
   ]
  },
  {
   "cell_type": "code",
   "execution_count": 1,
   "metadata": {},
   "outputs": [],
   "source": [
    "def matrix_dot_vector(a: list[list[int|float]], b: list[int|float]) -> list[int|float]:\n",
    "    \"\"\"\n",
    "    Function to return the dot product between a matrix and a vector\n",
    "    Args:\n",
    "        a (list): Matrix\n",
    "        b (list): Vector\n",
    "    Returns:\n",
    "        c (list): a * b\n",
    "    \"\"\"\n",
    "\n",
    "    c = []\n",
    "    if len(a[0]) != len(b):\n",
    "        return -1\n",
    "    else:\n",
    "        for row in a:\n",
    "            temp = 0\n",
    "            for i in range(len(row)):\n",
    "                temp += row[i] * b[i]\n",
    "            c.append(temp)\n",
    "    return c"
   ]
  },
  {
   "cell_type": "code",
   "execution_count": 2,
   "metadata": {},
   "outputs": [
    {
     "data": {
      "text/plain": [
       "[23, 5, 1]"
      ]
     },
     "execution_count": 2,
     "metadata": {},
     "output_type": "execute_result"
    }
   ],
   "source": [
    "matrix_dot_vector([[23, 45], [5, 41], [1, 2]], [1, 0])"
   ]
  },
  {
   "cell_type": "markdown",
   "metadata": {},
   "source": [
    "## Write a Python function that computes the transpose of a given matrix.\n",
    "\n",
    "Example:\\\n",
    "Input:\n",
    "```python\n",
    "a = [[1,2,3],[4,5,6]]\n",
    "Output:\n",
    "b = [[1,4],[2,5],[3,6]]"
   ]
  },
  {
   "cell_type": "code",
   "execution_count": 3,
   "metadata": {},
   "outputs": [],
   "source": [
    "from typing import Union, List\n",
    "\n",
    "def transpose(matrix: List[List[Union[int, float]]]) -> List[List[Union[int, float]]]:\n",
    "    # If matrix is empty:\n",
    "    if not matrix:\n",
    "        return []\n",
    "    \n",
    "    n = len(matrix[0]) # number of columns\n",
    "    m = len(matrix) # number of rows\n",
    "    \n",
    "    transposeA = [[] for _ in range(n)]\n",
    "\n",
    "    for row in matrix:\n",
    "        for i, element in enumerate(row):\n",
    "            transposeA[i].append(element)\n",
    "    return transposeA"
   ]
  },
  {
   "cell_type": "code",
   "execution_count": 4,
   "metadata": {},
   "outputs": [
    {
     "name": "stdout",
     "output_type": "stream",
     "text": [
      "[[1, 2, 3], [4, 5, 8]]\n"
     ]
    }
   ],
   "source": [
    "# Test\n",
    "print(transpose([[1, 4], [2, 5], [3, 8]]))"
   ]
  },
  {
   "cell_type": "code",
   "execution_count": 5,
   "metadata": {},
   "outputs": [],
   "source": [
    "# One-liner\n",
    "def transpose2(matrix):\n",
    "    return list(map(list, zip(*matrix)))"
   ]
  },
  {
   "cell_type": "code",
   "execution_count": 6,
   "metadata": {},
   "outputs": [
    {
     "name": "stdout",
     "output_type": "stream",
     "text": [
      "[[1, 2, 3], [4, 5, 8]]\n"
     ]
    }
   ],
   "source": [
    "print(transpose2([[1, 4], [2, 5], [3, 8]]))"
   ]
  },
  {
   "cell_type": "markdown",
   "metadata": {},
   "source": [
    "\n",
    "---\n",
    "\n",
    "#### **Original Nested Loop Implementation**\n",
    "\n",
    "**Time Complexity:**\n",
    "\n",
    "- The outer loop runs over every row in the matrix (m rows).\n",
    "- The inner loop runs over every element in a row (n columns).\n",
    "- Therefore, the total number of iterations is \\(m \\times n\\).\n",
    "- **Overall Time Complexity:** \\(O(m \\times n)\\).\n",
    "\n",
    "**Space Complexity:**\n",
    "\n",
    "- A new list `b` is created with \\(n\\) empty lists.\n",
    "- Then each element from the original matrix (m \\(\\times\\) n total elements) is appended to one of these lists.\n",
    "- **Overall Space Complexity:** \\(O(m \\times n)\\) (to store the transposed matrix).\n",
    "\n",
    "---\n",
    "\n",
    "#### **One-Liner Using `zip`**\n",
    "\n",
    "**Time Complexity:**\n",
    "\n",
    "- The `zip(*matrix)` unpacks the matrix and iterates once over each row to form tuples of corresponding elements. Under the hood, zip does a similar pairing operation to our nested loops.\n",
    "- The conversion `map(list, ...)` then iterates over each tuple to create a list.\n",
    "- Overall, it still processes \\(m \\times n\\) elements.\n",
    "- **Overall Time Complexity:** \\(O(m \\times n)\\).\n",
    "\n",
    "**Space Complexity:**\n",
    "\n",
    "- `zip(*matrix)` creates an iterator of tuples; these tuples together represent \\(m \\times n\\) elements.\n",
    "- Then, `map(list, ...)` converts each tuple into a list. Finally, `list(...)` gathers them into a list.\n",
    "- **Overall Space Complexity:** \\(O(m \\times n)\\) to store the transposed matrix.\n",
    "\n",
    "---"
   ]
  },
  {
   "cell_type": "markdown",
   "metadata": {},
   "source": [
    "## Write a Python function that reshapes a given matrix into a specified shape. if it cant be reshaped return back an empty list [ ]"
   ]
  },
  {
   "cell_type": "code",
   "execution_count": 7,
   "metadata": {},
   "outputs": [],
   "source": [
    "from typing import Union, List, Tuple\n",
    "\n",
    "def reshape_matrix(a: List[List[Union[int, float]]], new_shape: Tuple[int, float]) -> List[List[Union[int, float]]]:\n",
    "    # return np.reshape(a, new_shape)\n",
    "    flattened = [element for sublist in a for element in sublist]\n",
    "    c = []\n",
    "    if len(flattened) != new_shape[0] * new_shape[1]:\n",
    "        return []\n",
    "\t\t    \n",
    "    count = 0\n",
    "    while count < len(flattened):\n",
    "        c.append(flattened[count: new_shape[1] + count])\n",
    "        count += new_shape[1]\n",
    "    return c"
   ]
  },
  {
   "cell_type": "code",
   "execution_count": 10,
   "metadata": {},
   "outputs": [
    {
     "name": "stdout",
     "output_type": "stream",
     "text": [
      "[[1, 3, 4], [5, 7, 8]]\n"
     ]
    }
   ],
   "source": [
    "print(reshape_matrix(a = [[1,3,4],[5,7,8]], new_shape = (2, 3, 1)))"
   ]
  },
  {
   "cell_type": "markdown",
   "metadata": {},
   "source": [
    "Numpy Implementation"
   ]
  },
  {
   "cell_type": "code",
   "execution_count": null,
   "metadata": {},
   "outputs": [
    {
     "data": {
      "text/plain": [
       "array([[1],\n",
       "       [3],\n",
       "       [4],\n",
       "       [5],\n",
       "       [7],\n",
       "       [8]])"
      ]
     },
     "execution_count": 17,
     "metadata": {},
     "output_type": "execute_result"
    }
   ],
   "source": [
    "import numpy as np\n",
    "np.reshape([[1,3,4],[5,7,8]], (6, 1))"
   ]
  },
  {
   "cell_type": "markdown",
   "metadata": {},
   "source": [
    "n-dimensional matrices\\\n",
    "Disclaimer: *AI generated code*\\\n",
    "I'll try to study and implement it under recursion"
   ]
  },
  {
   "cell_type": "code",
   "execution_count": 18,
   "metadata": {},
   "outputs": [],
   "source": [
    "from typing import Any, List, Tuple\n",
    "\n",
    "def flatten(lst: List[Any]) -> List[Any]:\n",
    "    \"\"\"\n",
    "    Recursively flatten a nested list.\n",
    "    \n",
    "    Args:\n",
    "        lst: A nested list of elements.\n",
    "    \n",
    "    Returns:\n",
    "        A flat list containing all elements in the original nested list.\n",
    "    \"\"\"\n",
    "    flat_list = []\n",
    "    for item in lst:\n",
    "        if isinstance(item, list):\n",
    "            flat_list.extend(flatten(item))\n",
    "        else:\n",
    "            flat_list.append(item)\n",
    "    return flat_list\n",
    "\n",
    "def reshape(flat: List[Any], shape: Tuple[int, ...]) -> Any:\n",
    "    \"\"\"\n",
    "    Recursively reshape a flat list into an n-dimensional nested list with the given shape.\n",
    "    \n",
    "    Args:\n",
    "        flat: A flat list of elements.\n",
    "        shape: A tuple representing the desired shape.\n",
    "        \n",
    "    Returns:\n",
    "        An n-dimensional nested list with the specified shape.\n",
    "        \n",
    "    Raises:\n",
    "        ValueError: If the number of elements in flat does not match the product of dimensions in shape.\n",
    "    \"\"\"\n",
    "    # Calculate the total number of elements required for the shape\n",
    "    total = 1\n",
    "    for dim in shape:\n",
    "        total *= dim\n",
    "    if len(flat) != total:\n",
    "        raise ValueError(\"Total number of elements does not match the new shape\")\n",
    "    \n",
    "    # Base case: if shape is one-dimensional, return the flat list as is.\n",
    "    if len(shape) == 1:\n",
    "        return flat\n",
    "    \n",
    "    # Compute the size of each chunk for the first dimension\n",
    "    chunk_size = 1\n",
    "    for dim in shape[1:]:\n",
    "        chunk_size *= dim\n",
    "        \n",
    "    # Partition the flat list into chunks and recursively reshape each chunk\n",
    "    return [reshape(flat[i*chunk_size:(i+1)*chunk_size], shape[1:]) for i in range(shape[0])]\n",
    "\n",
    "def reshape_nd(matrix: List[Any], new_shape: Tuple[int, ...]) -> Any:\n",
    "    \"\"\"\n",
    "    Reshape an n-dimensional nested list (or a 2D matrix) into a new shape.\n",
    "    \n",
    "    Args:\n",
    "        matrix: A nested list (e.g., a 2D matrix) representing the input data.\n",
    "        new_shape: A tuple representing the desired shape.\n",
    "    \n",
    "    Returns:\n",
    "        An n-dimensional nested list with the specified new shape.\n",
    "    \n",
    "    Raises:\n",
    "        ValueError: If the total number of elements in the matrix does not match the new shape.\n",
    "    \"\"\"\n",
    "    # Flatten the matrix (or nested list)\n",
    "    flat = flatten(matrix)\n",
    "    return reshape(flat, new_shape)\n",
    "\n",
    "# Example usage:\n",
    "matrix_2d = [\n",
    "    [1, 2, 3, 4],\n",
    "    [5, 6, 7, 8]\n",
    "]\n"
   ]
  },
  {
   "cell_type": "code",
   "execution_count": 22,
   "metadata": {},
   "outputs": [
    {
     "name": "stdout",
     "output_type": "stream",
     "text": [
      "[[[[1], [2]], [[3], [4]]], [[[5], [6]], [[7], [8]]]]\n"
     ]
    }
   ],
   "source": [
    "# Let's say we want to reshape this 2D matrix into a shape of (2, 4, 1)\n",
    "# Total elements: 2*4 = 8, and new_shape: 2*4*1 = 8, so it's valid.\n",
    "reshaped = reshape_nd(matrix_2d, (2, 2, 2, 1))\n",
    "print(reshaped)"
   ]
  },
  {
   "cell_type": "markdown",
   "metadata": {},
   "source": [
    "## Write a Python function that calculates the mean of a matrix either by row or by column, based on a given mode. The function should take a matrix (list of lists) and a mode ('row' or 'column') as input and return a list of means according to the specified mode."
   ]
  },
  {
   "cell_type": "code",
   "execution_count": 36,
   "metadata": {},
   "outputs": [],
   "source": [
    "def calculate_matrix_mean(matrix: List[List[Union[int, float]]], mode: str) -> list[float]:\n",
    "    \n",
    "    if mode == \"column\":\n",
    "        return [sum(column)/len(matrix) for column in zip(*matrix)]\n",
    "    elif mode == \"row\":\n",
    "        return [sum(row)/len(matrix[0]) for row in matrix]"
   ]
  },
  {
   "cell_type": "code",
   "execution_count": 37,
   "metadata": {},
   "outputs": [
    {
     "name": "stdout",
     "output_type": "stream",
     "text": [
      "[2.0, 5.0, 8.0]\n",
      "[4.0, 5.0, 6.0]\n"
     ]
    }
   ],
   "source": [
    "print(calculate_matrix_mean(matrix = [[1, 2, 3], [4, 5, 6], [7, 8, 9]], mode = 'row'))\n",
    "print(calculate_matrix_mean(matrix = [[1, 2, 3], [4, 5, 6], [7, 8, 9]], mode = 'column'))"
   ]
  },
  {
   "cell_type": "markdown",
   "metadata": {},
   "source": [
    "## Write a Python function that multiplies a matrix by a scalar and returns the result."
   ]
  },
  {
   "cell_type": "code",
   "execution_count": 38,
   "metadata": {},
   "outputs": [],
   "source": [
    "def scalar_multiply(matrix: List[List[Union[int, float]]], scalar: int) -> List[List[Union[int, float]]]:\n",
    "    result = []\n",
    "    for row in matrix:\n",
    "        for i, element in enumerate(row):\n",
    "            row[i] = scalar * element\n",
    "        result.append(row)\n",
    "    return result"
   ]
  },
  {
   "cell_type": "code",
   "execution_count": 39,
   "metadata": {},
   "outputs": [
    {
     "name": "stdout",
     "output_type": "stream",
     "text": [
      "[[-1, -2], [-3, -4]]\n",
      "[[8, 16], [24, 32]]\n"
     ]
    }
   ],
   "source": [
    "print(scalar_multiply(matrix = [[1, 2], [3, 4]], scalar = -1))\n",
    "print(scalar_multiply(matrix = [[1, 2], [3, 4]], scalar = 8))"
   ]
  },
  {
   "cell_type": "markdown",
   "metadata": {},
   "source": [
    "## Write a Python function that calculates the eigenvalues of a 2x2 matrix. The function should return a list containing the eigenvalues, sort values from highest to lowest."
   ]
  },
  {
   "cell_type": "code",
   "execution_count": 1,
   "metadata": {},
   "outputs": [],
   "source": [
    "import math\n",
    "def calculate_eigenvalues(matrix):\n",
    "    # -b +/- sqrt(b^2 -4ac)/2a\n",
    "    trace = matrix[0][0] + matrix[1][1]\n",
    "    det = (matrix[0][0] * matrix[1][1]) - (matrix[0][1] * matrix[1][0])\n",
    "    \n",
    "    lambda_1 = ((trace) + math.sqrt((trace)**2 - (4 * det))) / 2\n",
    "    lambda_2 = ((trace) - math.sqrt((trace)**2 - (4 * det))) / 2\n",
    "    return sorted([lambda_1, lambda_2], reverse=True)"
   ]
  },
  {
   "cell_type": "code",
   "execution_count": 2,
   "metadata": {},
   "outputs": [
    {
     "name": "stdout",
     "output_type": "stream",
     "text": [
      "[3.0, 1.0]\n"
     ]
    }
   ],
   "source": [
    "print(calculate_eigenvalues(matrix = [[2, 1], [1, 2]]))"
   ]
  },
  {
   "cell_type": "code",
   "execution_count": null,
   "metadata": {},
   "outputs": [],
   "source": []
  }
 ],
 "metadata": {
  "kernelspec": {
   "display_name": "Conda (base)",
   "language": "python",
   "name": "base"
  },
  "language_info": {
   "codemirror_mode": {
    "name": "ipython",
    "version": 3
   },
   "file_extension": ".py",
   "mimetype": "text/x-python",
   "name": "python",
   "nbconvert_exporter": "python",
   "pygments_lexer": "ipython3",
   "version": "3.12.4"
  }
 },
 "nbformat": 4,
 "nbformat_minor": 2
}
